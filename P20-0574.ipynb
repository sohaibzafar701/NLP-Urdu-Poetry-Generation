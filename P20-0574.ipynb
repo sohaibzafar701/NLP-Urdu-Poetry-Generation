{
  "cells": [
    {
      "cell_type": "markdown",
      "metadata": {
        "id": "XzvXrOhqgWgK"
      },
      "source": [
        "#  NLP Assignment 2 Urdu Poetry Generation\n",
        "###M Sohaib Zafar\n",
        "###P20-0574"
      ]
    },
    {
      "cell_type": "code",
      "execution_count": 42,
      "metadata": {
        "id": "ZN2G8dzKG0yh"
      },
      "outputs": [],
      "source": [
        "import numpy as np\n",
        "import spacy\n",
        "import codecs\n",
        "from collections import defaultdict\n",
        "import random"
      ]
    },
    {
      "cell_type": "markdown",
      "metadata": {
        "id": "fljdJH2VG0yi"
      },
      "source": [
        "# Data Reading"
      ]
    },
    {
      "cell_type": "code",
      "execution_count": null,
      "metadata": {
        "colab": {
          "base_uri": "https://localhost:8080/"
        },
        "id": "6sUxsb9tG0yj",
        "outputId": "fd759b77-6710-42ee-fef9-a893d36bdee9"
      },
      "outputs": [
        {
          "output_type": "stream",
          "name": "stdout",
          "text": [
            "69030\n",
            "26060\n",
            "9612\n",
            "104702\n"
          ]
        }
      ],
      "source": [
        "#Data Readig\n",
        "path=\"/content/\"\n",
        "ghalib=\"ghalib.txt\"\n",
        "ghalib_data = open(path+\"ghalib.txt\").read()\n",
        "faiz_data = open(path+\"faiz.txt\").read()\n",
        "iqbal_data = open(path+\"iqbal.txt\").read()\n",
        "data=ghalib_data+faiz_data+iqbal_data\n",
        "print(len(ghalib_data))\n",
        "print(len(iqbal_data))\n",
        "print(len(faiz_data))\n",
        "print(len(data))"
      ]
    },
    {
      "cell_type": "markdown",
      "metadata": {
        "id": "NBoD2g5XG0yk"
      },
      "source": [
        "# Data Cleaning"
      ]
    },
    {
      "cell_type": "code",
      "execution_count": null,
      "metadata": {
        "id": "Kk3lQkBAG0yk"
      },
      "outputs": [],
      "source": [
        "#Data Cleaning\n",
        "lst= list()\n",
        "punctuations = '''‘٪،۔!۔()“ء-[]{};:'\"؟\\,<>./?@#$’%^&*_~'''\n",
        "cleaned_data = \"\"\n",
        "for x in data:\n",
        "    x = x.replace('\\r\\/',' ')\n",
        "    x = x.replace('\\n\\/',' ')\n",
        "    x = x.replace('\\n',' ')\n",
        "    x = x.replace('\\r',' ')\n",
        "    if x not in punctuations:\n",
        "        cleaned_data = cleaned_data + x\n",
        "\n",
        "nlp = spacy.blank('ur')\n",
        "doc = nlp(cleaned_data)\n",
        "for x in doc:\n",
        "    lst.append(x)\n",
        "lst = [str(x).strip(' ') for x in lst]\n",
        "lst=[x for x in lst if len(x)>0]\n"
      ]
    },
    {
      "cell_type": "markdown",
      "metadata": {
        "id": "A3qRAgouG0yl"
      },
      "source": [
        "# UniGram Model"
      ]
    },
    {
      "cell_type": "code",
      "execution_count": null,
      "metadata": {
        "scrolled": true,
        "id": "APUE9nPuG0yl"
      },
      "outputs": [],
      "source": [
        "# Frequency Count for unigrams\n",
        "words_freq = defaultdict(int)\n",
        "for word in lst:\n",
        "    words_freq[word] += 1\n",
        "\n",
        "# Convert the dictionary to a list of tuples for sorting\n",
        "sorted_unigrams = sorted(words_freq.items(), key=lambda x: x[1], reverse=True)\n",
        "\n",
        "# Save the unigrams and frequencies to a CSV file\n",
        "with open('unigrams.csv', 'w') as f:\n",
        "    f.write(\"Uni_Grams,Freq\\n\")\n",
        "    for word, freq in sorted_unigrams:\n",
        "        f.write(f\"{word},{freq}\\n\")\n"
      ]
    },
    {
      "cell_type": "markdown",
      "metadata": {
        "id": "EbHSnO-hG0yl"
      },
      "source": [
        "# BiGram Model"
      ]
    },
    {
      "cell_type": "code",
      "execution_count": null,
      "metadata": {
        "id": "1SZm1lTUG0ym"
      },
      "outputs": [],
      "source": [
        "# Frequency Count for bigrams\n",
        "bigrams = []\n",
        "for i in range(len(lst) - 1):\n",
        "    w1 = lst[i]\n",
        "    w2 = lst[i + 1]\n",
        "    bigrams.append((w1, w2))\n",
        "\n",
        "# Count the frequency of each bigram\n",
        "words_freq = defaultdict(int)\n",
        "for bigram in bigrams:\n",
        "    words_freq[bigram] += 1\n",
        "\n",
        "# Convert the dictionary to a list of tuples for sorting\n",
        "sorted_bigrams = sorted(words_freq.items(), key=lambda x: x[1], reverse=True)\n",
        "\n",
        "# Save the bigrams and frequencies to a CSV file\n",
        "with open('bigrams.csv', 'w') as f:\n",
        "    f.write(\"Bi_Grams,Freq\\n\")\n",
        "    for bigram, freq in sorted_bigrams:\n",
        "        bigram_str = ' '.join(bigram)\n",
        "        f.write(f\"{bigram_str},{freq}\\n\")\n"
      ]
    },
    {
      "cell_type": "markdown",
      "source": [
        "#Trigram Models"
      ],
      "metadata": {
        "id": "TIQPJOByy_29"
      }
    },
    {
      "cell_type": "code",
      "source": [
        "# Frequency Count for trigrams\n",
        "trigrams = []\n",
        "for i in range(len(lst) - 2):\n",
        "    w1 = lst[i]\n",
        "    w2 = lst[i + 1]\n",
        "    w3 = lst[i + 2]\n",
        "    trigrams.append((w1, w2, w3))\n",
        "\n",
        "# Count the frequency of each trigram\n",
        "words_freq = defaultdict(int)\n",
        "for trigram in trigrams:\n",
        "    words_freq[trigram] += 1\n",
        "\n",
        "# Convert the dictionary to a list of tuples for sorting\n",
        "sorted_trigrams = sorted(words_freq.items(), key=lambda x: x[1], reverse=True)\n",
        "\n",
        "# Save the trigrams and frequencies to a CSV file\n",
        "with open('trigrams.csv', 'w') as f:\n",
        "    f.write(\"tri_Grams,Freq\\n\")\n",
        "    for trigram, freq in sorted_trigrams:\n",
        "        trigram_str = ' '.join(trigram)\n",
        "        f.write(f\"{trigram_str},{freq}\\n\")"
      ],
      "metadata": {
        "id": "KFYITXuNzCmK"
      },
      "execution_count": null,
      "outputs": []
    },
    {
      "cell_type": "markdown",
      "metadata": {
        "id": "uBcmMU-vG0yo"
      },
      "source": [
        "# Backword BiGram Model"
      ]
    },
    {
      "cell_type": "code",
      "execution_count": null,
      "metadata": {
        "id": "dgUl7zcgG0yo"
      },
      "outputs": [],
      "source": [
        "# Frequency Count for backward bigrams\n",
        "backward_bigrams = []\n",
        "for i in range(len(lst) - 1):\n",
        "    w1 = lst[i]\n",
        "    w2 = lst[i + 1]\n",
        "    backward_bigrams.append((w1, w2))\n",
        "\n",
        "# Count the frequency of each backward bigram\n",
        "words_freq = defaultdict(int)\n",
        "for bigram in backward_bigrams:\n",
        "    words_freq[(bigram[1], bigram[0])] += 1\n",
        "\n",
        "# Convert the dictionary to a list of tuples for sorting\n",
        "sorted_backward_bigrams = sorted(words_freq.items(), key=lambda x: x[1], reverse=True)\n",
        "\n",
        "# Save the backward bigrams and frequencies to a CSV file\n",
        "with open('backword bigrams.csv', 'w') as f:\n",
        "    f.write(\"backword_bigrams,Freq\\n\")\n",
        "    for bigram, freq in sorted_backward_bigrams:\n",
        "        bigram_str = ' '.join(bigram)\n",
        "        f.write(f\"{bigram_str},{freq}\\n\")\n",
        "\n"
      ]
    },
    {
      "cell_type": "markdown",
      "metadata": {
        "id": "U_zYIPbqG0yo"
      },
      "source": [
        "#Top Rhyming words and Starting words\n"
      ]
    },
    {
      "cell_type": "code",
      "execution_count": null,
      "metadata": {
        "id": "OsTfSvM1G0yo"
      },
      "outputs": [],
      "source": [
        "# Top Rhyming words and Starting words\n",
        "lst= list()\n",
        "punctuations = '''‘٪،۔!۔()“ء-[]{};:'\"؟\\,<>./?@#$’%^&*_~'''\n",
        "cleaned_data = \"\"\n",
        "for x in data:\n",
        "    if x not in punctuations:\n",
        "        cleaned_data = cleaned_data + x\n",
        "nlp = spacy.blank('ur')\n",
        "doc = nlp(cleaned_data)\n",
        "for x in doc:\n",
        "    lst.append(x)\n",
        "lst = [str(x).strip(' ') for x in lst]\n",
        "lst=[x for x in lst if len(x)>0]\n",
        "\n",
        "top_rhy_words = defaultdict(int)\n",
        "top_start_words = defaultdict(int)\n",
        "for index, x in enumerate(lst):\n",
        "    if index+1 < len(lst) and index-1>=0:\n",
        "        if str(x) not in punctuations:\n",
        "            if \"\\n\" in str(x) or \"\\r\" in str(x):\n",
        "                top_rhy_words[str(lst[index-1])]+=1\n",
        "                top_start_words[str(lst[index+1])]+=1\n",
        "\n",
        "top_start_words=sorted(top_start_words.items(), key=lambda x: x[1], reverse=True)\n",
        "top_rhy_words=sorted(top_rhy_words.items(), key=lambda x: x[1], reverse=True)"
      ]
    },
    {
      "cell_type": "markdown",
      "metadata": {
        "id": "gwdZxTFJG0yo"
      },
      "source": [
        "# BiGram Model Loading and Poetry Generator\n"
      ]
    },
    {
      "cell_type": "code",
      "execution_count": null,
      "metadata": {
        "colab": {
          "base_uri": "https://localhost:8080/"
        },
        "id": "kaeEjAr4G0yp",
        "outputId": "71b46c85-207a-4bed-c351-e7607656e352"
      },
      "outputs": [
        {
          "output_type": "stream",
          "name": "stdout",
          "text": [
            "خدا کی ہے کہ یوں تو لیے\n",
            "نہیں آتی ہے کہ یوں تو کیا ہے لیے\n",
            "واں وہ بھی نہیں آتی ہے کہ یوں لیے\n",
            "ہیں کہ یوں تو کیا ہے لیے\n",
            "\n",
            "\n",
            "غالب کہ یوں تو کیا ہے ہوا\n",
            "آپ سے گزر گیا جو نہ ہوا\n",
            "ترے وعدہ نہ ہوا ہے کہ یوں تو ہوا\n",
            "اک شور اٹھایا غالب کہ یوں تو کیا ہوا\n",
            "\n",
            "\n",
            "گر نہیں آتی ہے کہ یوں تو گیا\n",
            "یہی ہے کہ یوں تو کیا ہے کہ گیا\n",
            "واں وہ بھی نہیں آتی ہے کہ گیا\n",
            "غالب کہ یوں تو کیا ہے گیا\n",
            "\n",
            "\n",
            "\n"
          ]
        }
      ],
      "source": [
        "def get_next_bigram_prediction(word):\n",
        "    bigram_FreqDist = pd.read_csv (r'bigrams.csv')\n",
        "    for row in bigram_FreqDist[\"Bi_Grams\"]:\n",
        "        lst=row.split(\" \")\n",
        "        if lst[0]==word:\n",
        "            return lst[1]\n",
        "\n",
        "Poem=\"\"\n",
        "for stanza in range(3):\n",
        "    rhy_word_index=random.randrange(0, 50)\n",
        "    last_words=top_rhy_words[rhy_word_index][0]\n",
        "    for verse in range(4):\n",
        "        start_word_index=random.randrange(20, 50)\n",
        "        start_word=top_start_words[start_word_index][0]\n",
        "        Poem+=str(start_word)+\" \"\n",
        "        verse_range=random.randrange(7, 10)\n",
        "        for x in range(verse_range-2):\n",
        "            prediction=get_next_bigram_prediction(start_word)\n",
        "            start_word=prediction\n",
        "            Poem+=str(prediction)+\" \"\n",
        "        Poem+=last_words\n",
        "        Poem+=\"\\n\"\n",
        "    Poem+=\"\\n\\n\"\n",
        "print(Poem)"
      ]
    },
    {
      "cell_type": "markdown",
      "source": [
        "#Trigram Model Loading and Poetry Generation"
      ],
      "metadata": {
        "id": "foeW9M1WzeyQ"
      }
    },
    {
      "cell_type": "code",
      "source": [
        "def get_next_trigram_prediction(two_word):\n",
        "    bigram_FreqDist = pd.read_csv (r'trigrams.csv')\n",
        "    for row in bigram_FreqDist[\"tri_Grams\"]:\n",
        "        lst=row.split(\" \")\n",
        "        if str(lst[0]) in str(two_word) and str(lst[1]) in str(two_word):\n",
        "            return lst[2]\n",
        "Poem=\"\"\n",
        "for stanza in range(3):\n",
        "    rhy_word_index=random.randrange(0, 30)\n",
        "    last_words=top_rhy_words[rhy_word_index][0]\n",
        "    for verse in range(4):\n",
        "        first_word_index=random.randrange(20, 50)\n",
        "        first_word=top_start_words[first_word_index][0]\n",
        "        sec_word_index=random.randrange(20, 50)\n",
        "        sec_word=top_start_words[sec_word_index][0]\n",
        "        Poem+=str(first_word)+\" \"+str(sec_word)+\" \"\n",
        "        verse_range=random.randrange(7, 10)\n",
        "        for x in range(verse_range-2):\n",
        "            prediction=get_next_trigram_prediction(str(first_word)+\" \"+str(sec_word))\n",
        "            if str(prediction) !=\"None\":\n",
        "                first_word=sec_word\n",
        "                sec_word=prediction\n",
        "                Poem+=str(prediction)+\" \"\n",
        "\n",
        "        Poem+=last_words\n",
        "        Poem+=\"\\n\"\n",
        "    Poem+=\"\\n\\n\"\n",
        "print(Poem)"
      ],
      "metadata": {
        "colab": {
          "base_uri": "https://localhost:8080/"
        },
        "id": "XPeMzdJQzjSO",
        "outputId": "f2717894-aba1-4e3b-f9cd-643f7aee7f99"
      },
      "execution_count": null,
      "outputs": [
        {
          "output_type": "stream",
          "name": "stdout",
          "text": [
            "ہوا ایک قطرے قطرے لیے\n",
            "آج موت کے لیے\n",
            "کیوں زخم کا پیچ و خم کا پیچ و لیے\n",
            "آہ بہ کے ہزار کیا کیا رب یہ لیے\n",
            "\n",
            "\n",
            "کچھ جب ہے\n",
            "اک مجھے ھے ھے ھے ھے ھے ھے ھے ہے\n",
            "زخم کیوں کا ہے\n",
            "خدا نہیں پرست آتی کے لڑے اور خطا کہیں ہے\n",
            "\n",
            "\n",
            "مگر آپ کے لڑے اور خطا کہیں ہم میرا\n",
            "اسی اگر طرۂ میرا\n",
            "اسی جب شکل میرا\n",
            "آج اسی بتِ نازک بدن کے پانو تو کی میرا\n",
            "\n",
            "\n",
            "\n"
          ]
        }
      ]
    },
    {
      "cell_type": "markdown",
      "metadata": {
        "id": "YnuaHJgnG0yp"
      },
      "source": [
        "# Backword BiGram Model Loading and Poetry Generator\n"
      ]
    },
    {
      "cell_type": "code",
      "execution_count": null,
      "metadata": {
        "colab": {
          "base_uri": "https://localhost:8080/"
        },
        "id": "NA6d6ztMG0yp",
        "outputId": "465d3b07-b854-4692-f73a-75898afabb61"
      },
      "outputs": [
        {
          "output_type": "stream",
          "name": "stdout",
          "text": [
            "گر چارہ احباب تھا مرد آزاد ہوئے\n",
            "واں تھا مرد آزاد عجب کرے مغفرت ہوئے\n",
            "ہو نہ کیوں ہی تو ہے ہوئے\n",
            "ترے ہوں میں ہوں میں ہوں میں ہوں ہوئے\n",
            "\n",
            "\n",
            "بے ہے کیا گے جائیں مر دوست\n",
            "جب میں ہوں میں ہوں میں دوست\n",
            "جب میں ہوں میں ہوں میں دوست\n",
            "اب ہے کیا گے جائیں مر کہ دوست\n",
            "\n",
            "\n",
            "موت کی اس اب ہے کیا کی\n",
            "اب ہے کیا گے جائیں مر کہ کی\n",
            "آپ چھڑکا نمک پر بات یہ کی\n",
            "گر چارہ احباب تھا مرد آزاد عجب کی\n",
            "\n",
            "\n",
            "\n"
          ]
        }
      ],
      "source": [
        "def get_next_backword_bigram_prediction(word):\n",
        "    bigram_FreqDist = pd.read_csv (r'backword bigrams.csv')\n",
        "    for row in bigram_FreqDist[\"backword_bigrams\"]:\n",
        "        lst=row.split(\" \")\n",
        "        if lst[0]==word:\n",
        "            return lst[1]\n",
        "\n",
        "Poem=\"\"\n",
        "for stanza in range(3):\n",
        "    rhy_word_index=random.randrange(0, 50)\n",
        "    last_words=top_rhy_words[rhy_word_index][0]\n",
        "    for verse in range(4):\n",
        "        start_word_index=random.randrange(20, 50)\n",
        "        start_word=top_start_words[start_word_index][0]\n",
        "        Poem+=str(start_word)+\" \"\n",
        "        verse_range=random.randrange(7, 10)\n",
        "        for x in range(verse_range-2):\n",
        "            prediction=get_next_backword_bigram_prediction(start_word)\n",
        "            start_word=prediction\n",
        "            Poem+=str(prediction)+\" \"\n",
        "        Poem+=last_words\n",
        "        Poem+=\"\\n\"\n",
        "    Poem+=\"\\n\\n\"\n",
        "print(Poem)"
      ]
    },
    {
      "cell_type": "markdown",
      "metadata": {
        "id": "H0Kf6T6-G0yq"
      },
      "source": [
        "# Bidirectional BiGram Model Loading and Poetry Generator\n"
      ]
    },
    {
      "cell_type": "code",
      "execution_count": null,
      "metadata": {
        "colab": {
          "base_uri": "https://localhost:8080/"
        },
        "id": "iJEcHFxqG0yq",
        "outputId": "8702e77e-a8c3-4c5d-ce36-83fdb020b0cb"
      },
      "outputs": [
        {
          "output_type": "stream",
          "name": "stdout",
          "text": [
            "اب اس ہے کی اب ہے اس کہ کیا یوں ہے تو کہ تھا\n",
            "ہوا ہے نہ کہ کیا یوں ہے تو کہ کیا ہے ہے گے تھا\n",
            "مجھے دینا ہے پڑا مجھے حساب دینا خونِ پڑا جگر سے کہ تا تھا\n",
            "ہو گئیں نہ خاک ہو نہیں میں آتی بھی ہے نہیں تھا\n",
            "\n",
            "\n",
            "یہی ہے رہتے کہ کیا یوں ہے تو کہ کیا ہے ہے گے کہ کیا نہیں\n",
            "یا رب ہے یہ یا کیا ہے ہے گے کہ کیا نہیں\n",
            "اگر گیا بھی جو جل نہ ہے ہوا کیوں ہے نہ کہ کیا نہیں\n",
            "ہیں کہ دیکھتے یوں ہے تو کہ کیا ہے ہے گے نہیں\n",
            "\n",
            "\n",
            "ہوا ہے نہ کہ کیا یوں ہے تو کہ کیا ہے ہے گے کہ کیا تک\n",
            "آپ سے چھڑکا گزر تجھ گیا سے جو جل نہ ہے ہوا کیوں تک\n",
            "جب وہ میں بھی ہے نہیں میں آتی بھی ہے نہیں کہ کیا تک\n",
            "کچھ تو تھا کیا ہے ہے گے کہ کیا یوں ہے تو کہ تک\n",
            "\n",
            "\n",
            "\n"
          ]
        }
      ],
      "source": [
        "def get_next_backword_bigram_prediction(word):\n",
        "    bigram_FreqDist = pd.read_csv (r'backword bigrams.csv')\n",
        "    for row in bigram_FreqDist[\"backword_bigrams\"]:\n",
        "        lst=row.split(\" \")\n",
        "        if lst[0]==word:\n",
        "            return lst[1]\n",
        "\n",
        "def get_next_bigram_prediction(word):\n",
        "    bigram_FreqDist = pd.read_csv (r'bigrams.csv')\n",
        "    for row in bigram_FreqDist[\"Bi_Grams\"]:\n",
        "        lst=row.split(\" \")\n",
        "        if lst[0]==word:\n",
        "            return lst[1]\n",
        "\n",
        "Poem=\"\"\n",
        "\n",
        "Poem=\"\"\n",
        "for stanza in range(3):\n",
        "    rhy_word_index=random.randrange(0, 50)\n",
        "    last_words=top_rhy_words[rhy_word_index][0]\n",
        "    for verse in range(4):\n",
        "        start_word_index=random.randrange(20, 50)\n",
        "        start_word=top_start_words[start_word_index][0]\n",
        "        Poem+=str(start_word)+\" \"\n",
        "        verse_range=random.randrange(7, 10)\n",
        "        for x in range(verse_range-2):\n",
        "            prediction_backword_bigram=get_next_backword_bigram_prediction(start_word)\n",
        "            prediction_bigram=get_next_bigram_prediction(start_word)\n",
        "            start_word=prediction_bigram\n",
        "            Poem+=str(prediction_bigram)+\" \"+str(prediction_backword_bigram)+\" \"\n",
        "        Poem+=last_words\n",
        "        Poem+=\"\\n\"\n",
        "    Poem+=\"\\n\\n\"\n",
        "print(Poem)"
      ]
    }
  ],
  "metadata": {
    "kernelspec": {
      "display_name": "Python 3",
      "language": "python",
      "name": "python3"
    },
    "language_info": {
      "codemirror_mode": {
        "name": "ipython",
        "version": 3
      },
      "file_extension": ".py",
      "mimetype": "text/x-python",
      "name": "python",
      "nbconvert_exporter": "python",
      "pygments_lexer": "ipython3",
      "version": "3.8.5"
    },
    "colab": {
      "provenance": []
    }
  },
  "nbformat": 4,
  "nbformat_minor": 0
}